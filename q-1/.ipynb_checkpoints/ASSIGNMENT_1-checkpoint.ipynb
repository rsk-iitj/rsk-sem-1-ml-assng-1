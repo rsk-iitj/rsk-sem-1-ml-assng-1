{
 "cells": [
  {
   "cell_type": "markdown",
   "id": "008e78ea",
   "metadata": {},
   "source": [
    "# Question 1\n",
    "- There are two models, M1 and M2, used to predict the scores for some input data. Suppose M1 predicts the score for input data as score1.npy and M2 predicts the score for the same data as score2.npy. Actual labels for a given score is label.npy\n",
    "(use np.load to load .npy files)\n",
    "1. Plot ROC curve (from scratch) for both the models in a single plot. (10 marks)\n",
    "2. Explain which model performs better on this data and why? (5 marks)\n",
    "3. Compute AUC for both the ROC curves. (5 marks)\n",
    "4. Calculate true positive rate for both models when false acceptance rate is 10% (5 marks)\n",
    "5. Draw your analysis on (3) and (4) (5 marks)"
   ]
  },
  {
   "cell_type": "code",
   "execution_count": 1,
   "id": "e94223c8",
   "metadata": {},
   "outputs": [],
   "source": [
    "import numpy as np\n",
    "import matplotlib.pyplot as plt"
   ]
  },
  {
   "cell_type": "code",
   "execution_count": 2,
   "id": "4d8b1a83",
   "metadata": {},
   "outputs": [
    {
     "data": {
      "text/plain": [
       "((25046,), (25046,), (25046,))"
      ]
     },
     "execution_count": 2,
     "metadata": {},
     "output_type": "execute_result"
    }
   ],
   "source": [
    "## importing data\n",
    "y_actual = np.load(\"label.npy\")\n",
    "model1_pred = np.load(\"score1.npy\"); model2_pred = np.load(\"score2.npy\")\n",
    "\n",
    "## getting shape\n",
    "y_actual.shape, model1_pred.shape, model2_pred.shape"
   ]
  },
  {
   "cell_type": "markdown",
   "id": "7e24155c",
   "metadata": {},
   "source": [
    "##### 1. Plot ROC curve (from scratch) for both the models in a single plot. (10 marks)"
   ]
  },
  {
   "cell_type": "code",
   "execution_count": 3,
   "id": "d4bf2e00",
   "metadata": {},
   "outputs": [],
   "source": [
    "def tpr_fpr_calculation(actual, predicted, threshold):\n",
    "    \"\"\"\n",
    "    This function calculates tpr and fpr from tp,fp,fn,tn values.\n",
    "    \"\"\"\n",
    "    ## getting true_positive, false_negative, false_positive, and false_negative\n",
    "    true_pos = len([(1,1) for y, y_cap in zip(actual, predicted) if (y == 1) and (y_cap >= threshold)])\n",
    "    true_neg = len([(0,0) for y, y_cap in zip(actual, predicted) if (y == 0) and (y_cap < threshold)])\n",
    "    false_pos = len([(0,1) for y, y_cap in zip(actual, predicted) if (y == 0) and (y_cap >= threshold)])\n",
    "    false_neg = len([(1,0) for y, y_cap in zip(actual, predicted) if (y == 1) and (y_cap < threshold)])\n",
    "    \n",
    "    ## calculating tpr and fpr\n",
    "    tpr = true_pos/(true_pos + false_neg)\n",
    "    fpr = false_pos/(false_pos + true_neg)\n",
    "    \n",
    "    return tpr, fpr"
   ]
  },
  {
   "cell_type": "code",
   "execution_count": 4,
   "id": "c89b94b2",
   "metadata": {},
   "outputs": [],
   "source": [
    "def roc_scores(actual, predicted, total_threshold=100):\n",
    "    \"\"\"This function calculates the roc_score for different threshold.\"\"\"\n",
    "    score = np.array(list()) ## intiliazing score array to store roc score\n",
    "    for thr in range((max(actual)+1)*total_threshold): ## iterating over ta range of threshold\n",
    "        ## getting tpr and fpr at threshold\n",
    "        tpr_tr, fpr_tr = tpr_fpr_calculation(actual,predicted, thr/total_threshold)\n",
    "        ## appending the score to the score array iteself\n",
    "        score = np.append(score, [fpr_tr, tpr_tr])\n",
    "        \n",
    "    return score.reshape(-1,2) ## reshaping data to get the x and y values"
   ]
  },
  {
   "cell_type": "code",
   "execution_count": 5,
   "id": "479e0758",
   "metadata": {
    "scrolled": true
   },
   "outputs": [],
   "source": [
    "## getting roc scores for both the model\n",
    "roc_model1 = roc_scores(y_actual, model1_pred, total_threshold=100)\n",
    "roc_model2 = roc_scores(y_actual, model2_pred, total_threshold=100)"
   ]
  },
  {
   "cell_type": "code",
   "execution_count": 6,
   "id": "086ecf70",
   "metadata": {},
   "outputs": [
    {
     "data": {
      "image/png": "[encoded data removed]",
      "text/plain": [
       "<Figure size 1080x360 with 1 Axes>"
      ]
     },
     "metadata": {},
     "output_type": "display_data"
    }
   ],
   "source": [
    "## plotting the curve for both model 1 and model 2 \n",
    "plt.style.use('Solarize_Light2')\n",
    "fig = plt.figure(figsize=(15,5))\n",
    "## plotting the model's fpr and tpr score\n",
    "ax1 = plt.plot(roc_model1[:,0], roc_model1[:,1])\n",
    "ax2 = plt.plot(roc_model2[:,0], roc_model2[:,1], \"r\")\n",
    "## setting up title and labels\n",
    "plt.title(\"ROC Curve\", fontsize=20)\n",
    "plt.xlabel(\"False Postive Rate\", fontsize=15)\n",
    "plt.ylabel(\"True Positive Rate\", fontsize=15)\n",
    "plt.legend([\"model1\", \"model2\"])\n",
    "plt.show()"
   ]
  },
  {
   "cell_type": "markdown",
   "id": "4890cf5d",
   "metadata": {},
   "source": [
    "##### 2. Explain which model performs better on this data and why? (5 marks)"
   ]
  },
  {
   "cell_type": "markdown",
   "id": "dfc6eb6b",
   "metadata": {},
   "source": [
    "##### answer:\n",
    "\n",
    "    Roc curve is trade off between sensitivity(tpr) and specificity(fpr). The higher value of sensitivity(tpr) \n",
    "    for less value of specificity(fpr) the better the model's performance. It means if the curve is more towards \n",
    "    top left cornor, then it will indicate better model performance.\n",
    "\n",
    "    So are compared between model1 and model2, model1 is covering more area in the graph along with more towards \n",
    "    top left cornor. So model1 performs better than model2."
   ]
  },
  {
   "cell_type": "markdown",
   "id": "bd8bc741",
   "metadata": {},
   "source": [
    "##### 3. Compute AUC for both the ROC curves. (5 marks)"
   ]
  },
  {
   "cell_type": "code",
   "execution_count": 7,
   "id": "f2e95de1",
   "metadata": {},
   "outputs": [],
   "source": [
    "def auc_score(fpr, tpr):\n",
    "    \"\"\"This function calculates the auc score for the given tpr and fpr values.\"\"\"\n",
    "    return sum([(fpr[num]- fpr[num + 1]) * tpr[num] for num in range(len(tpr)-1)])"
   ]
  },
  {
   "cell_type": "code",
   "execution_count": 8,
   "id": "e5b28e10",
   "metadata": {},
   "outputs": [
    {
     "name": "stdout",
     "output_type": "stream",
     "text": [
      "auc score : model1 : 0.9929, model2 : 0.9731\n"
     ]
    }
   ],
   "source": [
    "##calculating auc scores\n",
    "model1 = auc_score(roc_model1[:,0], roc_model1[:,1])\n",
    "model2 = auc_score(roc_model2[:,0], roc_model2[:,1])\n",
    "print(\"auc score : model1 : {:.4f}, model2 : {:.4f}\".format(model1, model2))"
   ]
  },
  {
   "cell_type": "markdown",
   "id": "aaf51653",
   "metadata": {},
   "source": [
    "#####  4. Calculate true positive rate for both models when false acceptance rate is 10% (5 marks)"
   ]
  },
  {
   "cell_type": "code",
   "execution_count": 9,
   "id": "982fa3aa",
   "metadata": {},
   "outputs": [],
   "source": [
    "def get_tpr_give_far(fpr, tpr, threshold):\n",
    "    \"\"\"this function fetches tpr for false acceptance rate\"\"\"\n",
    "    return tpr[np.where(threshold == fpr.round(2))[0][0]]"
   ]
  },
  {
   "cell_type": "code",
   "execution_count": 10,
   "id": "7d5e2531",
   "metadata": {},
   "outputs": [
    {
     "name": "stdout",
     "output_type": "stream",
     "text": [
      "The true positive rate when false acceptance rate is 10% for both the model is -- \n",
      "model1_tpr : 0.9903, model2_tpr : 0.9508\n"
     ]
    }
   ],
   "source": [
    "tpr_model1 = get_tpr_give_far(roc_model1[:,0], roc_model1[:,1], 0.10)\n",
    "tpr_model2 = get_tpr_give_far(roc_model2[:,0], roc_model2[:,1], 0.10)\n",
    "\n",
    "print(\"The true positive rate when false acceptance rate is 10% for both the model is -- \")\n",
    "print(\"model1_tpr : {:.4f}, model2_tpr : {:.4f}\".format(tpr_model1, tpr_model2))"
   ]
  },
  {
   "cell_type": "markdown",
   "id": "52bf8cdb",
   "metadata": {},
   "source": [
    "##### 5. Draw your analysis on (3) and (4) (5 marks)"
   ]
  },
  {
   "cell_type": "markdown",
   "id": "80fae4c8",
   "metadata": {},
   "source": [
    "    The auc score of model1 is alomst 100% whereas the model2 has 97.31%. That means model1 is performing better\n",
    "    than model2.\n",
    "    \n",
    "    For 10% false acceptance rate means out of 100 times we are accepting 10 times false postive values. So for\n",
    "    given threshold the model1 has sensitivity of 99% which is good and model2 has 95%, less as compared to model1."
   ]
  }
 ],
 "metadata": {
  "kernelspec": {
   "display_name": "Python 3 (ipykernel)",
   "language": "python",
   "name": "python3"
  },
  "language_info": {
   "codemirror_mode": {
    "name": "ipython",
    "version": 3
   },
   "file_extension": ".py",
   "mimetype": "text/x-python",
   "name": "python",
   "nbconvert_exporter": "python",
   "pygments_lexer": "ipython3",
   "version": "3.9.7"
  }
 },
 "nbformat": 4,
 "nbformat_minor": 5
}
